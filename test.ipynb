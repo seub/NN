{
 "cells": [
  {
   "cell_type": "code",
   "execution_count": 13,
   "metadata": {},
   "outputs": [
    {
     "name": "stdout",
     "output_type": "stream",
     "text": [
      "[3, 3, 20] [3, 3]\n",
      "[3, 3, 20, 21] [3, 3, 20, 21]\n",
      "test1:  [3, 3, 7] [5, 5, 5]\n",
      "[3, 3, 7] [5, 5, 5]\n",
      "test2:  [3, 3, 7, 9] [3, 3, 7]\n",
      "[3, 3, 7, 9, 11] [3, 3, 7, 9, 11]\n",
      "[3, 3, 7, 9, 11, 13] [3, 3, 7, 9, 11, 13]\n",
      "[3, 3, 7, 9, 11, 13, 14] [3, 3, 7, 9, 11, 13, 14]\n",
      "[3, 3, 7, 9, 11, 13, 14, 20] [3, 3, 7, 9, 11, 13, 14, 20]\n",
      "[3, 3, 20] [3, 3, 20]\n"
     ]
    }
   ],
   "source": [
    "x = [3, 3]\n",
    "y = [5, 5, 5]\n",
    "y = x\n",
    "x = x + [20]\n",
    "print(x,y)\n",
    "\n",
    "y = x\n",
    "x += [21]\n",
    "print(x,y)\n",
    "\n",
    "\n",
    "x = [3, 3]\n",
    "y = [5, 5, 5]\n",
    "\n",
    "def test1(x, y):\n",
    "    y = x\n",
    "    x += [7]\n",
    "\n",
    "test1(x, y)\n",
    "print(\"test1: \", x, y)\n",
    "\n",
    "\n",
    "class ops:\n",
    "    def __init__(self, v):\n",
    "        self.v = v\n",
    "\n",
    "x = ops([3,3])\n",
    "y = ops([5,5,5])\n",
    "\n",
    "def test2(x, y):\n",
    "    y = x\n",
    "    x.v += [7]\n",
    "\n",
    "test2(x, y)\n",
    "print(x.v, y.v)\n",
    "\n",
    "def test3(x, y):\n",
    "    y.v = x.v\n",
    "    x.v = x.v + [9]\n",
    "\n",
    "test3(x, y)\n",
    "print(\"test2: \", x.v, y.v)\n",
    "\n",
    "y = x\n",
    "x.v = x.v + [11]\n",
    "print(x.v, y.v)\n",
    "\n",
    "y.v = x.v\n",
    "x.v = x.v + [13]\n",
    "print(x.v, y.v)\n",
    "\n",
    "\n",
    "y.v = x.v\n",
    "x.v.append(14)\n",
    "print(x.v, y.v)\n",
    "\n",
    "\n",
    "x = x.v\n",
    "y = x\n",
    "x += [20]\n",
    "print(x,y)\n",
    "\n",
    "x = [3, 3]\n",
    "y = [5, 5, 5]\n",
    "y = x\n",
    "x += [20]\n",
    "print(x,y)"
   ]
  }
 ],
 "metadata": {
  "interpreter": {
   "hash": "916dbcbb3f70747c44a77c7bcd40155683ae19c65e1c03b4aa3499c5328201f1"
  },
  "kernelspec": {
   "display_name": "Python 3.9.9 64-bit",
   "language": "python",
   "name": "python3"
  },
  "language_info": {
   "codemirror_mode": {
    "name": "ipython",
    "version": 3
   },
   "file_extension": ".py",
   "mimetype": "text/x-python",
   "name": "python",
   "nbconvert_exporter": "python",
   "pygments_lexer": "ipython3",
   "version": "3.9.10"
  },
  "orig_nbformat": 4
 },
 "nbformat": 4,
 "nbformat_minor": 2
}
