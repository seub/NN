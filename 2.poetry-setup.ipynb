{
  "cells": [
    {
      "cell_type": "markdown",
      "metadata": {
        "id": "sqVW5Nezc8GZ"
      },
      "source": [
        "# 2. Poetry setup"
      ]
    },
    {
      "cell_type": "markdown",
      "metadata": {},
      "source": [
        "## Preamble: Conda vs Poetry"
      ]
    },
    {
      "cell_type": "markdown",
      "metadata": {},
      "source": [
        "**Conda** and **Poetry** are largely redundant:\n",
        "  - Conda is primarily a environment manager (in fact not necessarily Python), but it can also manage packages.\n",
        "  - Poetry is primarily a Python package manager (say, an upgrade of **pip**), but it can also create and manage Python environments (say, an upgrade of **Pyenv**).\n",
        "\n",
        "Our strategy will be to compartmentalize their roles: let Conda be the environment manager and Poetry the package manager. The reason for this choice is that, as far as I understand:\n",
        "  - Conda is best for managing Python environments and can be used for compiling and installing non-python packages, especially CUDA drivers (for GPU capability)\n",
        "  - Poetry is more powerful than Conda as a Python package manager."
      ]
    },
    {
      "cell_type": "markdown",
      "metadata": {},
      "source": [
        "Therefore, in order to use both, we first create and activate a Conda environment (see previous notebook: *Conda setup*), and then we use Poetry ***nested within the Conda environment***, and use it solely as a package manager (we do not let it manage the Python environment)."
      ]
    },
    {
      "cell_type": "markdown",
      "metadata": {},
      "source": [
        "## Prerequisites"
      ]
    },
    {
      "cell_type": "markdown",
      "metadata": {},
      "source": [
        "**Conda:** First install Conda, and create and activate a Python environment called **NN**: see previous notebook *1. Conda setup*."
      ]
    },
    {
      "cell_type": "markdown",
      "metadata": {},
      "source": [
        "Select the kernel *NN* to run this notebook. Check:  \n",
        "*(you should see a `*` for the NN environment)*"
      ]
    },
    {
      "cell_type": "code",
      "execution_count": 1,
      "metadata": {
        "colab": {
          "base_uri": "https://localhost:8080/"
        },
        "id": "EGkS6nN6dQaz",
        "outputId": "f49e39b2-eb9a-4d27-82bf-b19a58367a7e"
      },
      "outputs": [
        {
          "name": "stdout",
          "output_type": "stream",
          "text": [
            "# conda environments:\n",
            "#\n",
            "fsdl-text-recognizer-2021     /home/brice/.conda/envs/fsdl-text-recognizer-2021\n",
            "                         /home/brice/Dropbox/Info/Code/ML/NN/env\n",
            "base                     /usr/local/anaconda3\n",
            "NN                    *  /usr/local/anaconda3/envs/NN\n",
            "\n"
          ]
        }
      ],
      "source": [
        "!conda info --envs"
      ]
    },
    {
      "cell_type": "markdown",
      "metadata": {},
      "source": [
        "Let's double check the version of Python is 3.9:"
      ]
    },
    {
      "cell_type": "code",
      "execution_count": 2,
      "metadata": {},
      "outputs": [
        {
          "name": "stdout",
          "output_type": "stream",
          "text": [
            "Python 3.9.7\n"
          ]
        }
      ],
      "source": [
        "!python --version"
      ]
    },
    {
      "cell_type": "markdown",
      "metadata": {},
      "source": [
        "Although it's not necessary, you can check whether your system/environment is GPU capable:"
      ]
    },
    {
      "cell_type": "code",
      "execution_count": 3,
      "metadata": {
        "colab": {
          "base_uri": "https://localhost:8080/"
        },
        "id": "_FSlIfLxdFB6",
        "outputId": "ded9414e-14e8-4194-ed38-69d491ab6f3a"
      },
      "outputs": [
        {
          "name": "stdout",
          "output_type": "stream",
          "text": [
            "Tue Jan 25 15:28:47 2022       \n",
            "+-----------------------------------------------------------------------------+\n",
            "| NVIDIA-SMI 470.94       Driver Version: 470.94       CUDA Version: 11.4     |\n",
            "|-------------------------------+----------------------+----------------------+\n",
            "| GPU  Name        Persistence-M| Bus-Id        Disp.A | Volatile Uncorr. ECC |\n",
            "| Fan  Temp  Perf  Pwr:Usage/Cap|         Memory-Usage | GPU-Util  Compute M. |\n",
            "|                               |                      |               MIG M. |\n",
            "|===============================+======================+======================|\n",
            "|   0  NVIDIA GeForce ...  On   | 00000000:01:00.0 Off |                  N/A |\n",
            "| N/A   54C    P8    N/A /  N/A |      0MiB /  2004MiB |      0%      Default |\n",
            "|                               |                      |                  N/A |\n",
            "+-------------------------------+----------------------+----------------------+\n",
            "                                                                               \n",
            "+-----------------------------------------------------------------------------+\n",
            "| Processes:                                                                  |\n",
            "|  GPU   GI   CI        PID   Type   Process name                  GPU Memory |\n",
            "|        ID   ID                                                   Usage      |\n",
            "|=============================================================================|\n",
            "|  No running processes found                                                 |\n",
            "+-----------------------------------------------------------------------------+\n"
          ]
        }
      ],
      "source": [
        "!nvidia-smi"
      ]
    },
    {
      "cell_type": "markdown",
      "metadata": {},
      "source": [
        "We shall also need to open a terminal outside of this notebook, and make sure the Conda environment NN is activated in it:\n",
        "\n",
        "`conda activate NN`\n",
        "\n",
        "***For the remainder of this notebook, make sure your terminal is running the NN environment.***"
      ]
    },
    {
      "cell_type": "markdown",
      "metadata": {},
      "source": [
        "## Install Poetry"
      ]
    },
    {
      "cell_type": "markdown",
      "metadata": {},
      "source": [
        "(From https://python-poetry.org/docs/master/#installing-with-the-official-installer)  \n",
        "\n",
        "Install Poetry **within the Conda environment NN**:  \n",
        "\n",
        "In a terminal *outside this notebook*, ***with the NN environment activated (see above)***, run:"
      ]
    },
    {
      "cell_type": "markdown",
      "metadata": {},
      "source": [
        "```\n",
        "curl -sSL https://install.python-poetry.org | python -\n",
        "```"
      ]
    },
    {
      "cell_type": "markdown",
      "metadata": {},
      "source": [
        "Check your install:"
      ]
    },
    {
      "cell_type": "code",
      "execution_count": 10,
      "metadata": {},
      "outputs": [
        {
          "name": "stdout",
          "output_type": "stream",
          "text": [
            "Poetry version \u001b[36m1.1.12\u001b[0m\n"
          ]
        }
      ],
      "source": [
        "!poetry --version"
      ]
    },
    {
      "cell_type": "markdown",
      "metadata": {},
      "source": [
        "If for some reason you get a `ModuleNotFoundError`, this may fix your problem:  \n",
        "\n",
        "```\n",
        "pip install cleo tomlkit poetry.core requests cachecontrol cachy html5lib pkginfo virtualenv lockfile\n",
        "```"
      ]
    },
    {
      "cell_type": "markdown",
      "metadata": {},
      "source": [
        "## Project setup"
      ]
    },
    {
      "cell_type": "markdown",
      "metadata": {},
      "source": [
        "Since we have already created our project (and a Python environment with Conda), we will not use `poetry new NN`, but instead:\n",
        "\n",
        "*(as always make sure the Conda environment NN is activated)*\n",
        "\n",
        "```\n",
        "conda activate NN\n",
        "poetry init\n",
        "```\n",
        "\n",
        "Call the package name 'NN', and press *Enter* multiple times to accept the all default suggestions, except the Python version: we want `3.9` (exactly 3.9) instead of `^3.9`(at least 3.9). *This is because, as far as I can tell, the installation of PyTorch fails for 3.10.*\n",
        "\n",
        "This will create a **poetry.toml** file that should look like this:"
      ]
    },
    {
      "cell_type": "markdown",
      "metadata": {},
      "source": [
        "```\n",
        "[tool.poetry]\n",
        "name = \"NN\"\n",
        "version = \"0.1.0\"\n",
        "description = \"\"\n",
        "authors = [\"seub <brice.loustau@gmail.com>\"]\n",
        "\n",
        "[tool.poetry.dependencies]\n",
        "python = \"3.9\"\n",
        "\n",
        "[tool.poetry.dev-dependencies]\n",
        "\n",
        "[build-system]\n",
        "requires = [\"poetry-core>=1.0.0\"]\n",
        "build-backend = \"poetry.core.masonry.api\"\n",
        "```"
      ]
    },
    {
      "cell_type": "markdown",
      "metadata": {},
      "source": [
        "Next we can install dependencies:  \n",
        "\n",
        "`poetry install`\n",
        "\n",
        "This will create a **poetry.lock** file containing the exact versions of all packages installed for our project."
      ]
    },
    {
      "cell_type": "markdown",
      "metadata": {},
      "source": [
        "## Environment"
      ]
    },
    {
      "cell_type": "markdown",
      "metadata": {},
      "source": [
        "We do not want to use Poetry as our Python environment manager, since we are using Conda for that. In particular, we will not use commands such as `poetry shell` or `source ` or `poetry run`."
      ]
    },
    {
      "cell_type": "markdown",
      "metadata": {},
      "source": [
        "Thankfully, thanks to the fact that we initialized Poetry within our Conda environment, Poetry is clever enough to realize it. Check this:"
      ]
    },
    {
      "cell_type": "code",
      "execution_count": 4,
      "metadata": {},
      "outputs": [
        {
          "name": "stdout",
          "output_type": "stream",
          "text": [
            "\n",
            "\u001b[1mVirtualenv\u001b[0m\n",
            "\u001b[34mPython\u001b[0m:         \u001b[32m3.9.7\u001b[0m\n",
            "\u001b[34mImplementation\u001b[0m: \u001b[32mCPython\u001b[0m\n",
            "\u001b[34mPath\u001b[0m:           \u001b[32m/usr/local/anaconda3/envs/NN\u001b[0m\n",
            "\u001b[34mValid\u001b[0m:          \u001b[32mTrue\u001b[0m\n",
            "\n",
            "\u001b[1mSystem\u001b[0m\n",
            "\u001b[34mPlatform\u001b[0m: \u001b[32mlinux\u001b[0m\n",
            "\u001b[34mOS\u001b[0m:       \u001b[32mposix\u001b[0m\n",
            "\u001b[34mPython\u001b[0m:   \u001b[32m/usr/local/anaconda3/envs/NN\u001b[0m\n"
          ]
        }
      ],
      "source": [
        "!poetry env info"
      ]
    },
    {
      "cell_type": "markdown",
      "metadata": {},
      "source": [
        "## Add packages"
      ]
    },
    {
      "cell_type": "markdown",
      "metadata": {},
      "source": [
        "Let us add some new Python packages to our project using Poetry.  \n",
        "\n",
        "Run in a terminal (with the NN environment activated as usual):\n",
        "\n",
        "```\n",
        "poetry add matplotlib\n",
        "poetry add numpy\n",
        "poetry add torch\n",
        "```"
      ]
    },
    {
      "cell_type": "markdown",
      "metadata": {},
      "source": [
        "We can also add packages only to the dev environment:\n",
        "\n",
        "```\n",
        "poetry add pytest --dev\n",
        "```"
      ]
    },
    {
      "cell_type": "markdown",
      "metadata": {},
      "source": [
        "We can check the list of installed packages and their dependencies:"
      ]
    },
    {
      "cell_type": "code",
      "execution_count": 5,
      "metadata": {},
      "outputs": [
        {
          "name": "stdout",
          "output_type": "stream",
          "text": [
            "\u001b[36mmatplotlib\u001b[0m \u001b[1m3.5.1\u001b[0m Python plotting package\n",
            "├── \u001b[33mcycler\u001b[0m >=0.10\n",
            "├── \u001b[33mfonttools\u001b[0m >=4.22.0\n",
            "├── \u001b[33mkiwisolver\u001b[0m >=1.0.1\n",
            "├── \u001b[33mnumpy\u001b[0m >=1.17\n",
            "├── \u001b[33mpackaging\u001b[0m >=20.0\n",
            "│   └── \u001b[32mpyparsing\u001b[0m >=2.0.2,<3.0.5 || >3.0.5 \n",
            "├── \u001b[33mpillow\u001b[0m >=6.2.0\n",
            "├── \u001b[33mpyparsing\u001b[0m >=2.2.1\n",
            "├── \u001b[33mpython-dateutil\u001b[0m >=2.7\n",
            "│   └── \u001b[32msix\u001b[0m >=1.5 \n",
            "└── \u001b[33msetuptools-scm\u001b[0m >=4\n",
            "    ├── \u001b[32mpackaging\u001b[0m >=20.0 \n",
            "    │   └── \u001b[35mpyparsing\u001b[0m >=2.0.2,<3.0.5 || >3.0.5 \n",
            "    └── \u001b[32mtomli\u001b[0m >=1.0.0 \n",
            "\u001b[36mnumpy\u001b[0m \u001b[1m1.22.1\u001b[0m NumPy is the fundamental package for array computing with Python.\n",
            "\u001b[36mpytest\u001b[0m \u001b[1m6.2.5\u001b[0m pytest: simple powerful testing with Python\n",
            "├── \u001b[33matomicwrites\u001b[0m >=1.0\n",
            "├── \u001b[33mattrs\u001b[0m >=19.2.0\n",
            "├── \u001b[33mcolorama\u001b[0m *\n",
            "├── \u001b[33miniconfig\u001b[0m *\n",
            "├── \u001b[33mpackaging\u001b[0m *\n",
            "│   └── \u001b[32mpyparsing\u001b[0m >=2.0.2,<3.0.5 || >3.0.5 \n",
            "├── \u001b[33mpluggy\u001b[0m >=0.12,<2.0\n",
            "├── \u001b[33mpy\u001b[0m >=1.8.2\n",
            "└── \u001b[33mtoml\u001b[0m *\n",
            "\u001b[36mtorch\u001b[0m \u001b[1m1.10.1\u001b[0m Tensors and Dynamic neural networks in Python with strong GPU acceleration\n",
            "└── \u001b[33mtyping-extensions\u001b[0m *\n"
          ]
        }
      ],
      "source": [
        "!poetry show --tree"
      ]
    },
    {
      "cell_type": "markdown",
      "metadata": {},
      "source": [
        "## The poetry.lock file"
      ]
    },
    {
      "cell_type": "markdown",
      "metadata": {},
      "source": [
        "The **poetry.lock** file was created by `poetry install` and contains the exact versions of all packages installed.\n",
        "\n",
        "As soon as this file is present, running `poetry install` resolves and installs all dependencies listed in **pyproject.toml**, but Poetry uses the exact versions listed in poetry.lock. As a result, they may not all be at the very latest available versions. This is by design. *(Source: https://python-poetry.org/docs/basic-usage/#using-poetry-run)*  \n",
        "\n",
        "We should commit this file to version control (with **git**) to ensure that anyone who sets up the project uses the exact same versions of the dependencies."
      ]
    },
    {
      "cell_type": "markdown",
      "metadata": {},
      "source": [
        "If we want to update the dependencies to their latest versions, and consequently update the **poetry.lock** file, we can do:  \n",
        "\n",
        "```\n",
        "conda activate NN\n",
        "poetry update\n",
        "```"
      ]
    },
    {
      "cell_type": "markdown",
      "metadata": {},
      "source": [
        "(This is equivalent to deleting the **poetry.lock** file and running `poetry install` again.)"
      ]
    }
  ],
  "metadata": {
    "accelerator": "GPU",
    "colab": {
      "collapsed_sections": [],
      "name": "deep_learning_fundamentals_part1",
      "provenance": [],
      "toc_visible": true
    },
    "kernelspec": {
      "display_name": "Python 3",
      "name": "python3"
    },
    "language_info": {
      "codemirror_mode": {
        "name": "ipython",
        "version": 3
      },
      "file_extension": ".py",
      "mimetype": "text/x-python",
      "name": "python",
      "nbconvert_exporter": "python",
      "pygments_lexer": "ipython3",
      "version": "3.9.7"
    }
  },
  "nbformat": 4,
  "nbformat_minor": 0
}
