{
  "cells": [
    {
      "cell_type": "markdown",
      "metadata": {
        "id": "sqVW5Nezc8GZ"
      },
      "source": [
        "# Conda setup"
      ]
    },
    {
      "cell_type": "markdown",
      "metadata": {},
      "source": [
        "## Prerequisites"
      ]
    },
    {
      "cell_type": "markdown",
      "metadata": {},
      "source": [
        "__Note:__ Make sure you run this notebook (at first) with no (or base) conda environment activated."
      ]
    },
    {
      "cell_type": "markdown",
      "metadata": {},
      "source": [
        "Let us check whether you have **Python 3** and **pip** installed on your system. Note that this is not strictly necessary, as Conda will install its own version of Python."
      ]
    },
    {
      "cell_type": "code",
      "execution_count": 2,
      "metadata": {
        "colab": {
          "base_uri": "https://localhost:8080/"
        },
        "id": "EGkS6nN6dQaz",
        "outputId": "f49e39b2-eb9a-4d27-82bf-b19a58367a7e"
      },
      "outputs": [
        {
          "name": "stdout",
          "output_type": "stream",
          "text": [
            "Python 3.9.7\n",
            "pip 21.2.4 from /usr/local/anaconda3/lib/python3.9/site-packages/pip (python 3.9)\n"
          ]
        }
      ],
      "source": [
        "!python3 --version\n",
        "!pip --version"
      ]
    },
    {
      "cell_type": "markdown",
      "metadata": {},
      "source": [
        "Although it's not necessary, you can also check whether your system/environment is GPU capable:"
      ]
    },
    {
      "cell_type": "code",
      "execution_count": 3,
      "metadata": {
        "colab": {
          "base_uri": "https://localhost:8080/"
        },
        "id": "_FSlIfLxdFB6",
        "outputId": "ded9414e-14e8-4194-ed38-69d491ab6f3a"
      },
      "outputs": [
        {
          "name": "stdout",
          "output_type": "stream",
          "text": [
            "Tue Jan 25 15:19:52 2022       \n",
            "+-----------------------------------------------------------------------------+\n",
            "| NVIDIA-SMI 470.94       Driver Version: 470.94       CUDA Version: 11.4     |\n",
            "|-------------------------------+----------------------+----------------------+\n",
            "| GPU  Name        Persistence-M| Bus-Id        Disp.A | Volatile Uncorr. ECC |\n",
            "| Fan  Temp  Perf  Pwr:Usage/Cap|         Memory-Usage | GPU-Util  Compute M. |\n",
            "|                               |                      |               MIG M. |\n",
            "|===============================+======================+======================|\n",
            "|   0  NVIDIA GeForce ...  On   | 00000000:01:00.0 Off |                  N/A |\n",
            "| N/A   45C    P8    N/A /  N/A |      0MiB /  2004MiB |      0%      Default |\n",
            "|                               |                      |                  N/A |\n",
            "+-------------------------------+----------------------+----------------------+\n",
            "                                                                               \n",
            "+-----------------------------------------------------------------------------+\n",
            "| Processes:                                                                  |\n",
            "|  GPU   GI   CI        PID   Type   Process name                  GPU Memory |\n",
            "|        ID   ID                                                   Usage      |\n",
            "|=============================================================================|\n",
            "|  No running processes found                                                 |\n",
            "+-----------------------------------------------------------------------------+\n"
          ]
        }
      ],
      "source": [
        "!nvidia-smi"
      ]
    },
    {
      "cell_type": "markdown",
      "metadata": {},
      "source": [
        "## Install"
      ]
    },
    {
      "cell_type": "markdown",
      "metadata": {},
      "source": [
        "We will use Conda to manage the python environment (and GPU).  \n",
        "\n",
        "Go to https://docs.conda.io/projects/conda/en/latest/user-guide/install/index.html for instructions on how to install Conda on your system.  "
      ]
    },
    {
      "cell_type": "markdown",
      "metadata": {},
      "source": [
        "Check your install and check for updates:"
      ]
    },
    {
      "cell_type": "code",
      "execution_count": null,
      "metadata": {},
      "outputs": [],
      "source": [
        "!conda --version\n",
        "!conda update conda"
      ]
    },
    {
      "cell_type": "markdown",
      "metadata": {},
      "source": [
        "## Create new environment"
      ]
    },
    {
      "cell_type": "markdown",
      "metadata": {},
      "source": [
        "Next let us create a new conda environment from a yaml file. Create a file **environment_init.yml** (in the root directory of the repo) with the following contents:  \n",
        "\n",
        "```\n",
        "name: NN\n",
        "\n",
        "channels:\n",
        "  - defaults\n",
        "  - conda-forge\n",
        "\n",
        "dependencies:\n",
        "  - python=3.9\n",
        "  - cudatoolkit\n",
        "  - cudnn\n",
        "```"
      ]
    },
    {
      "cell_type": "markdown",
      "metadata": {},
      "source": [
        "Create the conda environment: run in a terminal __outside of this notebook__:  \n",
        "\n",
        "```conda env create -f environment_init.yml```"
      ]
    },
    {
      "cell_type": "markdown",
      "metadata": {},
      "source": [
        "Check the list of available conda environments:"
      ]
    },
    {
      "cell_type": "code",
      "execution_count": null,
      "metadata": {},
      "outputs": [],
      "source": [
        "!conda env list"
      ]
    },
    {
      "cell_type": "markdown",
      "metadata": {},
      "source": [
        "Activate the conda environment and check list of packages: run in a terminal __outside of this notebook__:  \n",
        "\n",
        "```\n",
        "conda activate NN\n",
        "conda list\n",
        "```"
      ]
    },
    {
      "cell_type": "markdown",
      "metadata": {},
      "source": [
        "## Compatibility with Jupyter notebooks"
      ]
    },
    {
      "cell_type": "markdown",
      "metadata": {},
      "source": [
        "Enable compatibility of Conda with Jupyter notebooks: (from https://towardsdatascience.com/get-your-conda-environment-to-show-in-jupyter-notebooks-the-easy-way-17010b76e874)\n",
        "\n",
        "Run in a terminal __outside of this notebook__:  \n",
        "```\n",
        "conda activate base\n",
        "conda install nb_conda_kernels\n",
        "conda activate NN\n",
        "conda conda install ipykernel\n",
        "```"
      ]
    },
    {
      "cell_type": "markdown",
      "metadata": {},
      "source": [
        "Finally, restart Jupyter notebooks and make sure that you can change the Python kernel running this notebook to the conda environment **NN**.  \n",
        "\n",
        "Check: (active environment shows a *):"
      ]
    },
    {
      "cell_type": "code",
      "execution_count": 1,
      "metadata": {},
      "outputs": [
        {
          "name": "stdout",
          "output_type": "stream",
          "text": [
            "# conda environments:\n",
            "#\n",
            "fsdl-text-recognizer-2021     /home/brice/.conda/envs/fsdl-text-recognizer-2021\n",
            "                         /home/brice/Dropbox/Info/Code/ML/NN/env\n",
            "base                     /usr/local/anaconda3\n",
            "NN                    *  /usr/local/anaconda3/envs/NN\n",
            "\n"
          ]
        }
      ],
      "source": [
        "!conda info --envs"
      ]
    },
    {
      "cell_type": "markdown",
      "metadata": {},
      "source": [
        "Check that we are running Python 3.9:"
      ]
    },
    {
      "cell_type": "code",
      "execution_count": 2,
      "metadata": {},
      "outputs": [
        {
          "name": "stdout",
          "output_type": "stream",
          "text": [
            "Python 3.9.7\n"
          ]
        }
      ],
      "source": [
        "!python --version"
      ]
    },
    {
      "cell_type": "markdown",
      "metadata": {},
      "source": [
        "## Update environment"
      ]
    },
    {
      "cell_type": "markdown",
      "metadata": {},
      "source": [
        "Try updating all packages (first make sure you are in the **NN** environment): run in a terminal **outside this notebook**\n",
        "\n",
        "```\n",
        "conda activate NN\n",
        "conda update --all\n",
        "```"
      ]
    },
    {
      "cell_type": "markdown",
      "metadata": {},
      "source": [
        "Try updating the environment (especially if you edit the file **environment.yml**): run in a terminal **outside this notebook**\n",
        "\n",
        "*This may take a while, do not do it if not necessary.*\n",
        "\n",
        "```\n",
        "conda env update --prefix ./env --file environment_init.yml  --prune\n",
        "```"
      ]
    },
    {
      "cell_type": "markdown",
      "metadata": {},
      "source": [
        "## Export environment file"
      ]
    },
    {
      "cell_type": "markdown",
      "metadata": {},
      "source": [
        "In case you wish to export your active environment to a new file (first make sure you are in the **NN** environment): run in a terminal **outside this notebook**\n",
        "\n",
        "```\n",
        "conda activate NN\n",
        "conda env export > environment_save.yml\n",
        "```"
      ]
    },
    {
      "cell_type": "markdown",
      "metadata": {},
      "source": [
        "Notice that it contains many more packages than **environment_init.yml**!"
      ]
    },
    {
      "cell_type": "markdown",
      "metadata": {},
      "source": [
        "Note that there is now a large directory called **env** at the root of our project. This was created by Conda. ***It should be ignored by git!***"
      ]
    }
  ],
  "metadata": {
    "accelerator": "GPU",
    "colab": {
      "collapsed_sections": [],
      "name": "deep_learning_fundamentals_part1",
      "provenance": [],
      "toc_visible": true
    },
    "kernelspec": {
      "display_name": "Python 3",
      "name": "python3"
    },
    "language_info": {
      "codemirror_mode": {
        "name": "ipython",
        "version": 3
      },
      "file_extension": ".py",
      "mimetype": "text/x-python",
      "name": "python",
      "nbconvert_exporter": "python",
      "pygments_lexer": "ipython3",
      "version": "3.9.7"
    }
  },
  "nbformat": 4,
  "nbformat_minor": 0
}
