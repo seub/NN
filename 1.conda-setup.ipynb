{
  "cells": [
    {
      "cell_type": "markdown",
      "metadata": {
        "id": "sqVW5Nezc8GZ"
      },
      "source": [
        "# 1. Conda setup"
      ]
    },
    {
      "cell_type": "markdown",
      "metadata": {},
      "source": [
        "## Prerequisites"
      ]
    },
    {
      "cell_type": "markdown",
      "metadata": {},
      "source": [
        "__Note:__ Make sure you run this notebook (at first) with no (or base) conda environment activated."
      ]
    },
    {
      "cell_type": "markdown",
      "metadata": {},
      "source": [
        "Let us check whether you have **Python 3** and **pip** installed on your system. Note that this is not strictly necessary, as Conda will install its own version of Python."
      ]
    },
    {
      "cell_type": "code",
      "execution_count": null,
      "metadata": {
        "colab": {
          "base_uri": "https://localhost:8080/"
        },
        "id": "EGkS6nN6dQaz",
        "outputId": "f49e39b2-eb9a-4d27-82bf-b19a58367a7e"
      },
      "outputs": [],
      "source": [
        "!python3 --version\n",
        "!pip --version"
      ]
    },
    {
      "cell_type": "markdown",
      "metadata": {},
      "source": [
        "Although it's not necessary, we can also check whether your system/environment is GPU capable for ML:"
      ]
    },
    {
      "cell_type": "code",
      "execution_count": null,
      "metadata": {
        "colab": {
          "base_uri": "https://localhost:8080/"
        },
        "id": "_FSlIfLxdFB6",
        "outputId": "ded9414e-14e8-4194-ed38-69d491ab6f3a"
      },
      "outputs": [],
      "source": [
        "!nvidia-smi"
      ]
    },
    {
      "cell_type": "markdown",
      "metadata": {},
      "source": [
        "## Install"
      ]
    },
    {
      "cell_type": "markdown",
      "metadata": {},
      "source": [
        "We will use Conda to manage the python environment (and GPU).  \n",
        "\n",
        "Go to https://docs.conda.io/projects/conda/en/latest/user-guide/install/index.html for instructions on how to install Conda on your system.  "
      ]
    },
    {
      "cell_type": "markdown",
      "metadata": {},
      "source": [
        "Check your install:"
      ]
    },
    {
      "cell_type": "code",
      "execution_count": null,
      "metadata": {},
      "outputs": [],
      "source": [
        "!conda --version"
      ]
    },
    {
      "cell_type": "markdown",
      "metadata": {},
      "source": [
        "Check for updates in exterior terminal:  \n",
        "\n",
        "`conda update conda`"
      ]
    },
    {
      "cell_type": "markdown",
      "metadata": {},
      "source": [
        "## Create new environment"
      ]
    },
    {
      "cell_type": "markdown",
      "metadata": {},
      "source": [
        "Next let us create a new conda environment from a yaml file. Create a file **environment_init.yml** (in the root directory of the repo) with the following contents:  \n",
        "\n",
        "```\n",
        "name: NN\n",
        "\n",
        "channels:\n",
        "  - defaults\n",
        "  - conda-forge\n",
        "\n",
        "dependencies:\n",
        "  - python=3.9\n",
        "  - cudatoolkit\n",
        "  - cudnn\n",
        "```"
      ]
    },
    {
      "cell_type": "markdown",
      "metadata": {},
      "source": [
        "Create the conda environment: run in a terminal __outside of this notebook__:  \n",
        "\n",
        "```conda env create -f environment_init.yml```"
      ]
    },
    {
      "cell_type": "markdown",
      "metadata": {},
      "source": [
        "Check the list of available conda environments:"
      ]
    },
    {
      "cell_type": "code",
      "execution_count": null,
      "metadata": {},
      "outputs": [],
      "source": [
        "!conda env list"
      ]
    },
    {
      "cell_type": "markdown",
      "metadata": {},
      "source": [
        "Activate the conda environment and check list of packages: run in a terminal __outside of this notebook__:  \n",
        "\n",
        "```\n",
        "conda activate NN\n",
        "conda list\n",
        "```"
      ]
    },
    {
      "cell_type": "markdown",
      "metadata": {},
      "source": [
        "## Compatibility with Jupyter notebooks"
      ]
    },
    {
      "cell_type": "markdown",
      "metadata": {},
      "source": [
        "Enable compatibility of Conda with Jupyter notebooks: (from https://towardsdatascience.com/get-your-conda-environment-to-show-in-jupyter-notebooks-the-easy-way-17010b76e874)\n",
        "\n",
        "Run in a terminal __outside of this notebook__:  \n",
        "```\n",
        "conda install nb_conda_kernels\n",
        "conda activate NN\n",
        "conda conda install ipykernel\n",
        "```"
      ]
    },
    {
      "cell_type": "markdown",
      "metadata": {},
      "source": [
        "Finally, restart Jupyter notebooks and make sure that you can change the Python kernel running this notebook to the conda environment **NN**.  \n",
        "\n",
        "Check: (active environment shows a *):"
      ]
    },
    {
      "cell_type": "code",
      "execution_count": 1,
      "metadata": {},
      "outputs": [
        {
          "name": "stdout",
          "output_type": "stream",
          "text": [
            "# conda environments:\n",
            "#\n",
            "base                     /home/brice/anaconda3\n",
            "NN                    *  /home/brice/anaconda3/envs/NN\n",
            "\n"
          ]
        }
      ],
      "source": [
        "!conda info --envs"
      ]
    },
    {
      "cell_type": "markdown",
      "metadata": {},
      "source": [
        "Check that we are running Python 3.9:"
      ]
    },
    {
      "cell_type": "code",
      "execution_count": 2,
      "metadata": {},
      "outputs": [
        {
          "name": "stdout",
          "output_type": "stream",
          "text": [
            "Python 3.9.7\n"
          ]
        }
      ],
      "source": [
        "!python --version"
      ]
    },
    {
      "cell_type": "markdown",
      "metadata": {},
      "source": [
        "Check the:"
      ]
    },
    {
      "cell_type": "code",
      "execution_count": 1,
      "metadata": {},
      "outputs": [
        {
          "name": "stdout",
          "output_type": "stream",
          "text": [
            "# packages in environment at /home/brice/anaconda3/envs/NN:\n",
            "#\n",
            "# Name                    Version                   Build  Channel\n",
            "_libgcc_mutex             0.1                        main  \n",
            "_openmp_mutex             4.5                       1_gnu  \n",
            "backcall                  0.2.0              pyhd3eb1b0_0  \n",
            "ca-certificates           2021.10.26           h06a4308_2  \n",
            "certifi                   2021.10.8        py39h06a4308_2  \n",
            "cudatoolkit               11.3.1               h2bc3f7f_2  \n",
            "cudnn                     8.2.1                cuda11.3_0  \n",
            "cycler                    0.11.0                   pypi_0    pypi\n",
            "debugpy                   1.5.1            py39h295c915_0  \n",
            "decorator                 5.1.0              pyhd3eb1b0_0  \n",
            "entrypoints               0.3              py39h06a4308_0  \n",
            "fonttools                 4.29.0                   pypi_0    pypi\n",
            "ipykernel                 6.4.1            py39h06a4308_1  \n",
            "ipython                   7.29.0           py39hb070fc8_0  \n",
            "ipython_genutils          0.2.0              pyhd3eb1b0_1  \n",
            "jedi                      0.18.1           py39h06a4308_0  \n",
            "jupyter_client            7.1.0              pyhd3eb1b0_0  \n",
            "jupyter_core              4.9.1            py39h06a4308_0  \n",
            "ld_impl_linux-64          2.35.1               h7274673_9  \n",
            "libffi                    3.3                  he6710b0_2  \n",
            "libgcc-ng                 9.3.0               h5101ec6_17  \n",
            "libgomp                   9.3.0               h5101ec6_17  \n",
            "libsodium                 1.0.18               h7b6447c_0  \n",
            "libstdcxx-ng              9.3.0               hd4cf53a_17  \n",
            "matplotlib                3.5.1                    pypi_0    pypi\n",
            "matplotlib-inline         0.1.2              pyhd3eb1b0_2  \n",
            "ncurses                   6.3                  h7f8727e_2  \n",
            "nest-asyncio              1.5.1              pyhd3eb1b0_0  \n",
            "numpy                     1.22.1                   pypi_0    pypi\n",
            "openssl                   1.1.1m               h7f8727e_0  \n",
            "packaging                 21.3                     pypi_0    pypi\n",
            "parso                     0.8.3              pyhd3eb1b0_0  \n",
            "pexpect                   4.8.0              pyhd3eb1b0_3  \n",
            "pickleshare               0.7.5           pyhd3eb1b0_1003  \n",
            "pillow                    9.0.0                    pypi_0    pypi\n",
            "pip                       21.2.4           py39h06a4308_0  \n",
            "prompt-toolkit            3.0.20             pyhd3eb1b0_0  \n",
            "ptyprocess                0.7.0              pyhd3eb1b0_2  \n",
            "pygments                  2.10.0             pyhd3eb1b0_0  \n",
            "pyparsing                 3.0.7                    pypi_0    pypi\n",
            "python                    3.9.7                h12debd9_1  \n",
            "python-dateutil           2.8.2              pyhd3eb1b0_0  \n",
            "pyzmq                     22.3.0           py39h295c915_2  \n",
            "readline                  8.1.2                h7f8727e_1  \n",
            "setuptools                58.0.4           py39h06a4308_0  \n",
            "setuptools-scm            6.4.2                    pypi_0    pypi\n",
            "six                       1.16.0             pyhd3eb1b0_0  \n",
            "sqlite                    3.37.0               hc218d9a_0  \n",
            "tk                        8.6.11               h1ccaba5_0  \n",
            "tomli                     2.0.0                    pypi_0    pypi\n",
            "tornado                   6.1              py39h27cfd23_0  \n",
            "traitlets                 5.1.1              pyhd3eb1b0_0  \n",
            "typing-extensions         4.0.1                    pypi_0    pypi\n",
            "tzdata                    2021e                hda174b7_0  \n",
            "wcwidth                   0.2.5              pyhd3eb1b0_0  \n",
            "wheel                     0.37.1             pyhd3eb1b0_0  \n",
            "xz                        5.2.5                h7b6447c_0  \n",
            "zeromq                    4.3.4                h2531618_0  \n",
            "zlib                      1.2.11               h7f8727e_4  \n"
          ]
        }
      ],
      "source": [
        "!conda list"
      ]
    },
    {
      "cell_type": "markdown",
      "metadata": {},
      "source": [
        "```\n",
        "curl -sSL https://install.python-poetry.org | python -\n",
        "```"
      ]
    },
    {
      "cell_type": "markdown",
      "metadata": {},
      "source": [
        "## Update environment"
      ]
    },
    {
      "cell_type": "markdown",
      "metadata": {},
      "source": [
        "Try updating all packages (first make sure you are in the **NN** environment): run in a terminal **outside this notebook**\n",
        "\n",
        "```\n",
        "conda activate NN\n",
        "conda update --all\n",
        "```"
      ]
    },
    {
      "cell_type": "markdown",
      "metadata": {},
      "source": [
        "Try updating the environment (especially if you edit the file **environment.yml**): run in a terminal **outside this notebook**\n",
        "\n",
        "*This may take a while, do not do it if not necessary.*\n",
        "\n",
        "```\n",
        "conda env update --prefix ./env --file environment_init.yml  --prune\n",
        "```"
      ]
    },
    {
      "cell_type": "markdown",
      "metadata": {},
      "source": [
        "## Export environment file"
      ]
    },
    {
      "cell_type": "markdown",
      "metadata": {},
      "source": [
        "In case you wish to export your active environment to a new file (first make sure you are in the **NN** environment): run in a terminal **outside this notebook**\n",
        "\n",
        "```\n",
        "conda activate NN\n",
        "conda env export > environment_save.yml\n",
        "```"
      ]
    },
    {
      "cell_type": "markdown",
      "metadata": {},
      "source": [
        "Notice that it contains many more packages than **environment_init.yml**!"
      ]
    },
    {
      "cell_type": "markdown",
      "metadata": {},
      "source": [
        "Note that there is now a large directory called **env** at the root of our project. This was created by Conda. ***It should be ignored by git!***"
      ]
    }
  ],
  "metadata": {
    "accelerator": "GPU",
    "colab": {
      "collapsed_sections": [],
      "name": "deep_learning_fundamentals_part1",
      "provenance": [],
      "toc_visible": true
    },
    "kernelspec": {
      "display_name": "Python 3",
      "name": "python3"
    },
    "language_info": {
      "codemirror_mode": {
        "name": "ipython",
        "version": 3
      },
      "file_extension": ".py",
      "mimetype": "text/x-python",
      "name": "python",
      "nbconvert_exporter": "python",
      "pygments_lexer": "ipython3",
      "version": "3.9.7"
    }
  },
  "nbformat": 4,
  "nbformat_minor": 0
}
