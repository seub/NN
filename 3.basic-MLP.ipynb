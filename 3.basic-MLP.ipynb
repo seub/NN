{
  "cells": [
    {
      "cell_type": "markdown",
      "metadata": {
        "id": "sqVW5Nezc8GZ"
      },
      "source": [
        "# 3. Basic model from scratch"
      ]
    },
    {
      "cell_type": "markdown",
      "metadata": {},
      "source": [
        "## Prerequisites"
      ]
    },
    {
      "cell_type": "markdown",
      "metadata": {},
      "source": [
        "  - Install Conda and create environment: see notebook *1. Conda setup*\n",
        "  - Install Poetry and create configuration: see notebook *2. Poetry setup*"
      ]
    },
    {
      "cell_type": "markdown",
      "metadata": {},
      "source": [
        "Make sure you select the environment (kernel) *NN* to run this notebook. Also activate it in companion terminal:  \n",
        "`conda activate NN`"
      ]
    },
    {
      "cell_type": "markdown",
      "metadata": {},
      "source": [
        "Let's check we have Python 3.9 running:"
      ]
    },
    {
      "cell_type": "code",
      "execution_count": 1,
      "metadata": {
        "colab": {
          "base_uri": "https://localhost:8080/"
        },
        "id": "EGkS6nN6dQaz",
        "outputId": "f49e39b2-eb9a-4d27-82bf-b19a58367a7e"
      },
      "outputs": [
        {
          "name": "stdout",
          "output_type": "stream",
          "text": [
            "Python 3.9.7\n"
          ]
        }
      ],
      "source": [
        "!python --version"
      ]
    },
    {
      "cell_type": "markdown",
      "metadata": {},
      "source": [
        "Let's make sure packages and dependencies are installed by Poetry:  \n",
        "```poetry install```"
      ]
    },
    {
      "cell_type": "markdown",
      "metadata": {},
      "source": [
        "Let's check our packages and dependencies:"
      ]
    },
    {
      "cell_type": "code",
      "execution_count": 2,
      "metadata": {
        "colab": {
          "base_uri": "https://localhost:8080/"
        },
        "id": "ngcaTx9Y-1lX",
        "outputId": "53a7f8bf-cb40-4d98-da60-3cbfe097fc31"
      },
      "outputs": [
        {
          "name": "stdout",
          "output_type": "stream",
          "text": [
            "\u001b[36mmatplotlib\u001b[0m \u001b[1m3.5.1\u001b[0m Python plotting package\n",
            "├── \u001b[33mcycler\u001b[0m >=0.10\n",
            "├── \u001b[33mfonttools\u001b[0m >=4.22.0\n",
            "├── \u001b[33mkiwisolver\u001b[0m >=1.0.1\n",
            "├── \u001b[33mnumpy\u001b[0m >=1.17\n",
            "├── \u001b[33mpackaging\u001b[0m >=20.0\n",
            "│   └── \u001b[32mpyparsing\u001b[0m >=2.0.2,<3.0.5 || >3.0.5 \n",
            "├── \u001b[33mpillow\u001b[0m >=6.2.0\n",
            "├── \u001b[33mpyparsing\u001b[0m >=2.2.1\n",
            "├── \u001b[33mpython-dateutil\u001b[0m >=2.7\n",
            "│   └── \u001b[32msix\u001b[0m >=1.5 \n",
            "└── \u001b[33msetuptools-scm\u001b[0m >=4\n",
            "    ├── \u001b[32mpackaging\u001b[0m >=20.0 \n",
            "    │   └── \u001b[35mpyparsing\u001b[0m >=2.0.2,<3.0.5 || >3.0.5 \n",
            "    └── \u001b[32mtomli\u001b[0m >=1.0.0 \n",
            "\u001b[36mnumpy\u001b[0m \u001b[1m1.22.1\u001b[0m NumPy is the fundamental package for array computing with Python.\n",
            "\u001b[36mpytest\u001b[0m \u001b[1m6.2.5\u001b[0m pytest: simple powerful testing with Python\n",
            "├── \u001b[33matomicwrites\u001b[0m >=1.0\n",
            "├── \u001b[33mattrs\u001b[0m >=19.2.0\n",
            "├── \u001b[33mcolorama\u001b[0m *\n",
            "├── \u001b[33miniconfig\u001b[0m *\n",
            "├── \u001b[33mpackaging\u001b[0m *\n",
            "│   └── \u001b[32mpyparsing\u001b[0m >=2.0.2,<3.0.5 || >3.0.5 \n",
            "├── \u001b[33mpluggy\u001b[0m >=0.12,<2.0\n",
            "├── \u001b[33mpy\u001b[0m >=1.8.2\n",
            "└── \u001b[33mtoml\u001b[0m *\n",
            "\u001b[36mtorch\u001b[0m \u001b[1m1.10.1\u001b[0m Tensors and Dynamic neural networks in Python with strong GPU acceleration\n",
            "└── \u001b[33mtyping-extensions\u001b[0m *\n"
          ]
        }
      ],
      "source": [
        "!poetry show --tree"
      ]
    },
    {
      "cell_type": "markdown",
      "metadata": {},
      "source": [
        "If we want to update the Conda environment, we can run (in companion terminal):  \n",
        "```\n",
        "conda env update --prune -f environment_init.yml\n",
        "```"
      ]
    },
    {
      "cell_type": "markdown",
      "metadata": {},
      "source": [
        "If we want to update the Poetry setup, we can run (in companion terminal, making sure NN is activated):  \n",
        "```\n",
        "poetry update\n",
        "```"
      ]
    },
    {
      "cell_type": "markdown",
      "metadata": {},
      "source": [
        "We can create shortcuts for these actions in a separate **Makefile** (check its contents), which can then be called from a terminal:\n",
        "```\n",
        "make conda-udate\n",
        "make poetry-update\n",
        "```"
      ]
    },
    {
      "cell_type": "markdown",
      "metadata": {
        "id": "0CuuBRbRdXDJ"
      },
      "source": [
        "## Linear model"
      ]
    },
    {
      "cell_type": "markdown",
      "metadata": {},
      "source": [
        "Note: This notebook is inspired from https://fullstackdeeplearning.com/spring2021/notebook-1/."
      ]
    },
    {
      "cell_type": "markdown",
      "metadata": {},
      "source": [
        "### Generate and visualize data"
      ]
    },
    {
      "cell_type": "code",
      "execution_count": 3,
      "metadata": {},
      "outputs": [],
      "source": [
        "import numpy as np\n",
        "import matplotlib.pyplot as plt"
      ]
    },
    {
      "cell_type": "markdown",
      "metadata": {},
      "source": [
        "Let us create and show a dataset of 20 points:"
      ]
    },
    {
      "cell_type": "code",
      "execution_count": 4,
      "metadata": {
        "colab": {
          "base_uri": "https://localhost:8080/",
          "height": 299
        },
        "id": "ZhJh0fUDdIlo",
        "outputId": "6658426c-f154-4bf3-eb28-a21091b5b469"
      },
      "outputs": [],
      "source": [
        "nb_datapoints = 10\n",
        "dim_in = 1\n",
        "dim_out = 1\n",
        "x = np.random.uniform(-1, 1, (nb_datapoints, dim_in, dim_out))"
      ]
    },
    {
      "cell_type": "markdown",
      "metadata": {},
      "source": [
        "Suppose that we want to approximate the 'true' function \\bar{f}(x) = x/2 + 1:\n"
      ]
    },
    {
      "cell_type": "code",
      "execution_count": 5,
      "metadata": {},
      "outputs": [],
      "source": [
        "weights_true = np.array([[.5],])\n",
        "bias_true = np.array([1])\n",
        "\n",
        "y_true = x @ weights_true + bias_true # Matrix multiplication and element-wise addition"
      ]
    },
    {
      "cell_type": "markdown",
      "metadata": {},
      "source": [
        "Let's inspect all the shapes:"
      ]
    },
    {
      "cell_type": "code",
      "execution_count": 6,
      "metadata": {},
      "outputs": [
        {
          "name": "stdout",
          "output_type": "stream",
          "text": [
            "x: (10, 1, 1), weights: (1, 1), bias: (1,), y_true: (10, 1, 1)\n"
          ]
        }
      ],
      "source": [
        "print(f'x: {x.shape}, weights: {weights_true.shape}, bias: {bias_true.shape}, y_true: {y_true.shape}')"
      ]
    },
    {
      "cell_type": "markdown",
      "metadata": {},
      "source": [
        "Let's plot our true function:"
      ]
    },
    {
      "cell_type": "code",
      "execution_count": 7,
      "metadata": {},
      "outputs": [
        {
          "data": {
            "image/png": "[encoded data removed]",
            "text/plain": [
              "<Figure size 800x600 with 1 Axes>"
            ]
          },
          "metadata": {
            "needs_background": "light"
          },
          "output_type": "display_data"
        }
      ],
      "source": [
        "from matplotlib.pyplot import figure\n",
        "figure(figsize=(8, 6), dpi=100)\n",
        "plt.plot(x.squeeze(-1), y_true.squeeze(-1), 'b--', label='true function')\n",
        "plt.scatter(x.squeeze(-1), y_true.squeeze(-1), color='b', marker='x', label='data points')\n",
        "plt.legend()\n",
        "plt.show()"
      ]
    },
    {
      "cell_type": "markdown",
      "metadata": {
        "id": "WKASk4TeP-Vu"
      },
      "source": [
        "### Linear model"
      ]
    },
    {
      "cell_type": "markdown",
      "metadata": {},
      "source": [
        "Let us define the simplest model: one layer, linear, no activation function. This is equivalent to linear regression."
      ]
    },
    {
      "cell_type": "code",
      "execution_count": 8,
      "metadata": {
        "colab": {
          "base_uri": "https://localhost:8080/",
          "height": 282
        },
        "id": "rpaA6KL1AzUe",
        "outputId": "af85d4ed-1972-4d54-fd0e-758160896961"
      },
      "outputs": [
        {
          "data": {
            "image/png": "[encoded data removed]",
            "text/plain": [
              "<Figure size 800x600 with 1 Axes>"
            ]
          },
          "metadata": {
            "needs_background": "light"
          },
          "output_type": "display_data"
        }
      ],
      "source": [
        "class LinearLayer:\n",
        "  def __init__(self, input_dim, output_dim):\n",
        "    self.input_dim = input_dim\n",
        "    self.output_dim = output_dim\n",
        "    self.weights = np.random.randn(input_dim, output_dim) * np.sqrt(1. / input_dim) # Not sure why FSDL had np.sqrt(2. / input_dim)\n",
        "    # Note: I think it is best to think of the weights as a matrix acting on the input (given as a line vector) \n",
        "    # by multiplication *on the right*\n",
        "    self.bias = np.random.randn(output_dim) * np.sqrt(1. / input_dim) # FSDL initializes them to zero: np.zeros(output_dim)\n",
        "  \n",
        "  def __call__(self, x):\n",
        "    return x @ self.weights + self.bias\n",
        "  # Mind that the first dim of x corresponds to the number of data points!\n",
        "  # In numpy, when doing matrix multiplication, if either argument is N-dimensional, N > 2, \n",
        "  # then it is treated as a stack of matrices residing in the last two indexes and broadcast accordingly.\n",
        "  \n",
        "  # Note: What is slightly strange/inconsistent (to me) about matrix multiplication in numpy is that it does exactly what you expect,\n",
        "  # except when the second argument is 1-dimensional: in this case it is implicitly transformed into a column vector (ie transposed), then\n",
        "  # converted back to a line vector after multiplication.\n",
        "\n",
        "  def weights_gradient(self, x):\n",
        "    return np.array([x]*self.output_dim).squeeze(0)\n",
        "\n",
        "  def bias_gradient(self, x):\n",
        "    return np.array([1]*self.output_dim)\n",
        "    \n",
        "\n",
        "linear = LinearLayer(1, 1)\n",
        "y_pred = linear(x)\n",
        "figure(figsize=(8, 6), dpi=100)\n",
        "plt.plot(x.squeeze(-1), y_true.squeeze(-1), 'b--', label='true function')\n",
        "plt.scatter(x.squeeze(-1), y_true.squeeze(-1), color='b', marker='x', label='data points')\n",
        "plt.scatter(x.squeeze(-1), y_pred.squeeze(-1), color='r', marker='x', label='our predictions')\n",
        "plt.legend()\n",
        "plt.show()"
      ]
    },
    {
      "cell_type": "markdown",
      "metadata": {
        "id": "YtKQdlViQBm_"
      },
      "source": [
        "Basic loss function: MSE\n"
      ]
    },
    {
      "cell_type": "code",
      "execution_count": 9,
      "metadata": {
        "colab": {
          "base_uri": "https://localhost:8080/"
        },
        "id": "AIn86q0oDNsy",
        "outputId": "756200f6-7830-43c4-bd27-9119d23f3f60"
      },
      "outputs": [
        {
          "name": "stdout",
          "output_type": "stream",
          "text": [
            "Our initial loss is 3.0149391090858217\n"
          ]
        }
      ],
      "source": [
        "class MSE:\n",
        "  def __call__(self, y, y_true):\n",
        "    return ((y - y_true) ** 2).mean()\n",
        "\n",
        "  def gradient(self, y, y_true):\n",
        "    return 2. * (y - y_true) / y.shape[0]\n",
        "\n",
        "  \n",
        "loss = MSE()\n",
        "print(f'Our initial loss is {loss(y_pred, y_true)}')"
      ]
    },
    {
      "cell_type": "markdown",
      "metadata": {
        "id": "TMJrVabQRbBp"
      },
      "source": [
        "Let's now create our model:"
      ]
    },
    {
      "cell_type": "code",
      "execution_count": 10,
      "metadata": {},
      "outputs": [
        {
          "name": "stdout",
          "output_type": "stream",
          "text": [
            "Epoch 5: loss = 0.20115112206136004\n",
            "Epoch 10: loss = 0.015874227111156505\n",
            "Epoch 15: loss = 0.0022611575217797225\n",
            "Epoch 20: loss = 0.0011509427375949216\n",
            "Epoch 25: loss = 0.0007011958945836914\n",
            "Epoch 30: loss = 0.0005503859080027496\n",
            "Epoch 35: loss = 0.0004452040461728093\n",
            "Epoch 40: loss = 0.0003160973179521595\n",
            "Epoch 45: loss = 0.0002465123960040304\n",
            "Epoch 50: loss = 0.00018508666949414632\n"
          ]
        },
        {
          "data": {
            "image/png": "[encoded data removed]",
            "text/plain": [
              "<Figure size 800x600 with 1 Axes>"
            ]
          },
          "metadata": {
            "needs_background": "light"
          },
          "output_type": "display_data"
        }
      ],
      "source": [
        "class LinearModel:\n",
        "    def __init__(self, layer, loss):\n",
        "        self.layer = layer\n",
        "        self.loss = loss\n",
        "\n",
        "    def __call__(self, x):\n",
        "        return self.layer(x)\n",
        "\n",
        "    def forward_pass(self, x):\n",
        "        self.x = x\n",
        "        self.y = self(x)\n",
        "\n",
        "    def back_propagate(self, y_true, learning_rate):\n",
        "        self.weights_gradient = (self.layer.weights_gradient(self.x) @ self.loss.gradient(self.y, y_true)).mean()\n",
        "        self.bias_gradient = (self.layer.bias_gradient(self.x) @ self.loss.gradient(self.y, y_true)).mean()\n",
        "        self.layer.weights = self.layer.weights - learning_rate*self.weights_gradient\n",
        "        self.layer.bias = self.layer.bias - learning_rate*self.bias_gradient\n",
        "\n",
        "    def train(self, x, y_true, batch_size, nb_epochs, learning_rate):\n",
        "        for epoch in range(1, nb_epochs+1):\n",
        "            indices = np.random.choice(x.shape[0], batch_size, replace=False)\n",
        "            x_batch = x[indices, :]\n",
        "            y_true_batch = y_true[indices, :]\n",
        "            self.forward_pass(x_batch)\n",
        "            self.back_propagate(y_true_batch, learning_rate)\n",
        "            if epoch % 5 ==0:\n",
        "                print(f\"Epoch {epoch}: loss = {self.loss(self(x), y_true)}\")\n",
        "\n",
        "\n",
        "linear = LinearLayer(1, 1)\n",
        "loss = MSE()\n",
        "model = LinearModel(linear, loss)\n",
        "\n",
        "model.train(x, y_true, 5, 50, 0.5)\n",
        "\n",
        "figure(figsize=(8, 6), dpi=100)\n",
        "plt.plot(x.squeeze(-1), y_true.squeeze(-1), 'b--', label='True function')\n",
        "plt.scatter(x.squeeze(-1), y_true.squeeze(-1), color='b', marker='x', label='data points')\n",
        "plt.scatter(x.squeeze(-1), model(x).squeeze(-1), color='r', marker='x', label='our predictions')\n",
        "plt.legend()\n",
        "plt.show()\n"
      ]
    },
    {
      "cell_type": "markdown",
      "metadata": {
        "id": "JK1qniplRpxN"
      },
      "source": [
        "### 2-dimensional inputs work, too"
      ]
    },
    {
      "cell_type": "code",
      "execution_count": null,
      "metadata": {
        "colab": {
          "base_uri": "https://localhost:8080/",
          "height": 282
        },
        "id": "RWqEaOWqNbwV",
        "outputId": "05dc9030-9622-499b-c218-f23e45a23a8a"
      },
      "outputs": [],
      "source": [
        "# What about 2-dimensional x?\n",
        "\n",
        "n = 100\n",
        "d = 2\n",
        "x = np.random.uniform(-1, 1, (n, d))\n",
        "\n",
        "# y = w * x + b\n",
        "# y = w_0 * x_0 + w_1 * x_1 + b\n",
        "# y = w@x + b\n",
        "\n",
        "weights_true = np.array([[2, -1], ]).T\n",
        "bias_true = np.array([0.5])\n",
        "print(x.shape, weights_true.shape, bias_true.shape)\n",
        "\n",
        "y_true = x @ weights_true + bias_true\n",
        "print(f'x: {x.shape}, weights: {weights_true.shape}, bias: {bias_true.shape}, y: {y_true.shape}')\n",
        "\n",
        "def plot_3d(x, y, y_pred=None):\n",
        "  import matplotlib.pyplot as plt\n",
        "  from mpl_toolkits.mplot3d import Axes3D\n",
        "  fig = plt.figure()\n",
        "  ax = fig.add_subplot(111, projection='3d')\n",
        "  ax.scatter(x[:, 0], x[:, 1], y, label='underlying function')\n",
        "  if y_pred is not None:\n",
        "    ax.scatter(x[:, 0], x[:, 1], y_pred, label='our function')\n",
        "  plt.legend()\n",
        "\n",
        "plot_3d(x, y_true)"
      ]
    },
    {
      "cell_type": "code",
      "execution_count": null,
      "metadata": {
        "colab": {
          "base_uri": "https://localhost:8080/",
          "height": 265
        },
        "id": "pZwGG7rAUJfe",
        "outputId": "768e5e4a-c3ee-4958-dd8a-e98a18886c6c"
      },
      "outputs": [],
      "source": [
        "loss = MSE()\n",
        "linear = Linear(2)\n",
        "y_pred = linear(x)\n",
        "print(loss(y_pred, y_true))\n",
        "fig = plot_3d(x, y_true, y_pred)"
      ]
    },
    {
      "cell_type": "code",
      "execution_count": null,
      "metadata": {
        "colab": {
          "base_uri": "https://localhost:8080/",
          "height": 588
        },
        "id": "ZydPQYKIUtNT",
        "outputId": "368cae8a-9a6a-46c2-efdf-fc338ea3d6b6"
      },
      "outputs": [],
      "source": [
        "from typing import Callable\n",
        "\n",
        "def fit(x: np.ndarray, y: np.ndarray, model: Callable, loss: Callable, lr: float, num_epochs: int):\n",
        "  for epoch in range(num_epochs):\n",
        "    y_pred = model(x)\n",
        "    loss_value = loss(y_pred, y)\n",
        "    print(f'Epoch {epoch}, loss {loss_value}')\n",
        "    gradient_from_loss = loss.backward()\n",
        "    model.backward(gradient_from_loss)\n",
        "    model.update(lr)\n",
        "\n",
        "fit(x, y_true, model=linear, loss=loss, lr=0.1, num_epochs=20)\n",
        "plot_3d(x, y_true, linear(x))"
      ]
    },
    {
      "cell_type": "markdown",
      "metadata": {
        "id": "kVZo5o9hdcia"
      },
      "source": [
        "## Basic regression with a Multi-layer Perceptron\n",
        "\n",
        "So, we now have a way to automatically fit a linear function to N-dimensional data.\n",
        "\n",
        "How can this be made to work for non-linear data?"
      ]
    },
    {
      "cell_type": "code",
      "execution_count": null,
      "metadata": {
        "colab": {
          "base_uri": "https://localhost:8080/",
          "height": 265
        },
        "id": "cqENhTMpdlJT",
        "outputId": "a2a27ec5-5154-4028-808b-fece1a29259a"
      },
      "outputs": [],
      "source": [
        "# Make non-linear data\n",
        "\n",
        "n = 200\n",
        "d = 2\n",
        "x = np.random.uniform(-1, 1, (n, d))\n",
        "\n",
        "weights_true = np.array([[5, 1],]).T\n",
        "bias_true = np.array([1])\n",
        "\n",
        "y_true = (x ** 2) @ weights_true + x @ weights_true + bias_true\n",
        "print(f'x: {x.shape}, weights: {weights_true.shape}, bias: {bias_true.shape}, y: {y_true.shape}')\n",
        "\n",
        "plot_3d(x, y_true)"
      ]
    },
    {
      "cell_type": "code",
      "execution_count": null,
      "metadata": {
        "colab": {
          "base_uri": "https://localhost:8080/",
          "height": 928
        },
        "id": "UgbM2NMJYswq",
        "outputId": "a32c91ce-f04b-455f-bfa0-a813ce409aff"
      },
      "outputs": [],
      "source": [
        "# We can train just fine, but the final loss will remain high, as our linear function is incapable\n",
        "# of representing the data.\n",
        "\n",
        "loss = MSE()\n",
        "linear = Linear(d)\n",
        "fit(x, y_true, model=linear, loss=loss, lr=0.1, num_epochs=40)\n",
        "plot_3d(x, y_true, linear(x))"
      ]
    },
    {
      "cell_type": "markdown",
      "metadata": {
        "id": "1-QK1DGMVFmV"
      },
      "source": [
        "### Add non-linearity: ReLU"
      ]
    },
    {
      "cell_type": "code",
      "execution_count": null,
      "metadata": {
        "colab": {
          "base_uri": "https://localhost:8080/"
        },
        "id": "hhGZIvzkYzar",
        "outputId": "6c87b0c3-81c3-4845-e8e6-5466f5026184"
      },
      "outputs": [],
      "source": [
        "# In order to learn non-linear functions, we need non-linearities in our model.\n",
        "\n",
        "class Relu:\n",
        "    def __call__(self, input_):\n",
        "        self.input_ = input_\n",
        "        self.output = np.clip(self.input_, 0, None)\n",
        "        return self.output\n",
        "    \n",
        "    def backward(self, output_gradient):\n",
        "      # import pdb; pdb.set_trace()  # By the way, this is how you can debug\n",
        "      self.input_gradient = (self.input_ > 0) * output_gradient\n",
        "      return self.input_gradient\n",
        "\n",
        "\n",
        "relu = Relu()\n",
        "input_ = np.expand_dims(np.array([1, 0.5, 0, -0.5, -1]), -1)\n",
        "print(relu(input_))\n",
        "print(relu.backward(input_))"
      ]
    },
    {
      "cell_type": "markdown",
      "metadata": {
        "id": "c67k16FsVQUj"
      },
      "source": [
        "### Train our new non-linear model"
      ]
    },
    {
      "cell_type": "code",
      "execution_count": null,
      "metadata": {
        "colab": {
          "base_uri": "https://localhost:8080/",
          "height": 265
        },
        "id": "hyKYKhm0ZunK",
        "outputId": "eb47c706-80b2-4ef7-989d-cf4b0d01d56e"
      },
      "outputs": [],
      "source": [
        "class Model:\n",
        "  def __init__(self, input_dim, num_hidden):\n",
        "    self.linear1 = Linear(input_dim, num_hidden)\n",
        "    self.relu = Relu()\n",
        "    self.linear2 = Linear(num_hidden, 1)\n",
        "  \n",
        "  def __call__(self, x):\n",
        "    l1 = self.linear1(x)\n",
        "    r = self.relu(l1)\n",
        "    l2 = self.linear2(r)\n",
        "    return l2\n",
        "  \n",
        "  def backward(self, output_gradient):\n",
        "    linear2_gradient = self.linear2.backward(output_gradient)\n",
        "    relu_gradient = self.relu.backward(linear2_gradient)\n",
        "    linear1_gradient = self.linear1.backward(relu_gradient)\n",
        "    # print('Model backward', linear2_gradient.shape, relu_gradient.shape, linear1_gradient.shape)\n",
        "    # import pdb; pdb.set_trace()\n",
        "    return linear1_gradient\n",
        "\n",
        "  def update(self, lr):\n",
        "    self.linear2.update(lr)\n",
        "    self.linear1.update(lr)\n",
        "\n",
        "loss = MSE()\n",
        "model = Model(d, 10)\n",
        "y_pred = model(x)\n",
        "loss_value = loss(y_pred, y_true)\n",
        "loss_gradient = loss.backward()\n",
        "print(loss_value)\n",
        "model.backward(loss_gradient)\n",
        "plot_3d(x, y_true, y_pred)"
      ]
    },
    {
      "cell_type": "code",
      "execution_count": null,
      "metadata": {
        "colab": {
          "base_uri": "https://localhost:8080/"
        },
        "id": "fKJ4L0-WfYrd",
        "outputId": "8484df11-cdc2-40f7-8441-cef64ebcf4bd"
      },
      "outputs": [],
      "source": [
        "# Test just one forward and backward step\n",
        "loss = MSE()\n",
        "model = Model(d, 10)\n",
        "y_pred = model(x)\n",
        "loss_value = loss(y_pred, y_true)\n",
        "print(loss_value)\n",
        "loss_gradient = loss.backward()\n",
        "model.backward(loss_gradient)\n",
        "model.update(0.1)\n",
        "y_pred = model(x)\n",
        "loss_value = loss(y_pred, y_true)\n",
        "print(loss_value)"
      ]
    },
    {
      "cell_type": "code",
      "execution_count": null,
      "metadata": {
        "colab": {
          "base_uri": "https://localhost:8080/",
          "height": 928
        },
        "id": "wllnmL6Sbsh6",
        "outputId": "f634d39c-58cd-4e95-fa91-1cd139c6d81c"
      },
      "outputs": [],
      "source": [
        "fit(x, y_true, model=model, loss=loss, lr=0.1, num_epochs=40)\n",
        "plot_3d(x, y_true, model(x))"
      ]
    },
    {
      "cell_type": "markdown",
      "metadata": {
        "id": "vq0Z_14tdra9"
      },
      "source": [
        "### Same thing, in PyTorch"
      ]
    },
    {
      "cell_type": "code",
      "execution_count": null,
      "metadata": {
        "colab": {
          "base_uri": "https://localhost:8080/"
        },
        "id": "oUzGijLkOUiy",
        "outputId": "18e32079-c249-4dbf-bb02-8e59e7fe4521"
      },
      "outputs": [],
      "source": [
        "import torch\n",
        "import torch.nn as nn\n",
        "\n",
        "\n",
        "class TorchModel(nn.Module):\n",
        "  def __init__(self, input_dim, num_hidden):\n",
        "    super().__init__()\n",
        "    self.linear1 = nn.Linear(input_dim, num_hidden)\n",
        "    self.relu = nn.ReLU()\n",
        "    self.linear2 = nn.Linear(num_hidden, 1)\n",
        "  \n",
        "  def forward(self, x):\n",
        "    l1 = self.linear1(x)\n",
        "    r = self.relu(l1)\n",
        "    l2 = self.linear2(r)\n",
        "    return l2\n",
        "\n",
        "\n",
        "loss = nn.MSELoss()\n",
        "model = TorchModel(d, 10)\n",
        "x_tensor = torch.tensor(x).float()\n",
        "y_true_tensor = torch.tensor(y_true).float()\n",
        "y_pred_tensor = model(x_tensor)\n",
        "loss_value = loss(y_pred_tensor, y_true_tensor)\n",
        "print(loss_value)"
      ]
    },
    {
      "cell_type": "code",
      "execution_count": null,
      "metadata": {
        "colab": {
          "base_uri": "https://localhost:8080/"
        },
        "id": "qDoKS0BBYlxU",
        "outputId": "84c60291-28a0-40c1-c6d8-716e6440d798"
      },
      "outputs": [],
      "source": [
        "# Test just one forward and backward step\n",
        "optimizer = torch.optim.SGD(model.parameters(), lr=0.1)\n",
        "\n",
        "optimizer.zero_grad()\n",
        "y_pred_tensor = model(x_tensor)\n",
        "loss_value = loss(y_pred_tensor, y_true_tensor)\n",
        "print(loss_value)\n",
        "loss_gradient = loss_value.backward()\n",
        "optimizer.step()\n",
        "\n",
        "y_pred_tensor = model(x_tensor)\n",
        "loss_value = loss(y_pred_tensor, y_true_tensor)\n",
        "print(loss_value)"
      ]
    },
    {
      "cell_type": "code",
      "execution_count": null,
      "metadata": {
        "colab": {
          "base_uri": "https://localhost:8080/",
          "height": 928
        },
        "id": "Yx8hOdiRcIEJ",
        "outputId": "5682aabf-8e5a-4390-a636-b093fbf6b315"
      },
      "outputs": [],
      "source": [
        "# Now we run the training loop\n",
        "\n",
        "def torch_fit(x: np.ndarray, y: np.ndarray, model: Callable, loss: Callable, lr: float, num_epochs: int):\n",
        "  optimizer = torch.optim.SGD(model.parameters(), lr=lr)\n",
        "  for epoch in range(num_epochs):\n",
        "    optimizer.zero_grad()\n",
        "    y_pred_tensor = model(x_tensor)\n",
        "    loss_value = loss(y_pred_tensor, y_true_tensor)\n",
        "    print(loss_value)\n",
        "    loss_value.backward()\n",
        "    optimizer.step()\n",
        "\n",
        "torch_fit(x_tensor, y_true_tensor, model=model, loss=loss, lr=0.1, num_epochs=40)\n",
        "plot_3d(x, y_true, model(x_tensor).detach())"
      ]
    },
    {
      "cell_type": "markdown",
      "metadata": {
        "id": "Wo5zDlScdl4s"
      },
      "source": [
        "### Same thing, in Tensorflow/Keras"
      ]
    },
    {
      "cell_type": "code",
      "execution_count": null,
      "metadata": {
        "colab": {
          "base_uri": "https://localhost:8080/",
          "height": 843
        },
        "id": "HDoGEt6RnvCU",
        "outputId": "fea43c55-34f9-4c9c-ff0d-446c4853e280"
      },
      "outputs": [],
      "source": [
        "from tensorflow import keras\n",
        "from tensorflow.keras import layers\n",
        "from tensorflow.keras import optimizers\n",
        "\n",
        "inputs = keras.Input(shape=(2,))\n",
        "l1 = layers.Dense(10, activation='relu', name='dense_1')(inputs)\n",
        "outputs = layers.Dense(1, name='regression')(l1)\n",
        "\n",
        "model = keras.Model(inputs=inputs, outputs=outputs)\n",
        "print(model.summary())\n",
        "model.compile(loss='mse', optimizer=optimizers.SGD(0.1))\n",
        "\n",
        "model.fit(x, y_true, epochs=10)\n",
        "\n",
        "y_pred = model.predict(x)\n",
        "\n",
        "plot_3d(x, y_true, model(x))"
      ]
    }
  ],
  "metadata": {
    "accelerator": "GPU",
    "colab": {
      "collapsed_sections": [],
      "name": "deep_learning_fundamentals_part1",
      "provenance": [],
      "toc_visible": true
    },
    "kernelspec": {
      "display_name": "Python 3",
      "name": "python3"
    },
    "language_info": {
      "codemirror_mode": {
        "name": "ipython",
        "version": 3
      },
      "file_extension": ".py",
      "mimetype": "text/x-python",
      "name": "python",
      "nbconvert_exporter": "python",
      "pygments_lexer": "ipython3",
      "version": "3.9.7"
    }
  },
  "nbformat": 4,
  "nbformat_minor": 0
}
